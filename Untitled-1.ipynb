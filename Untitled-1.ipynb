{
 "cells": [
  {
   "cell_type": "code",
   "execution_count": 1,
   "metadata": {},
   "outputs": [],
   "source": [
    "import pandas as pd\n",
    "import numpy as np\n",
    "import os\n",
    "import matplotlib.pyplot as plt\n",
    "import seaborn as sns\n"
   ]
  },
  {
   "cell_type": "code",
   "execution_count": 3,
   "metadata": {},
   "outputs": [
    {
     "data": {
      "text/plain": [
       "['TM_P1_20210419_hy_ETA15.csv',\n",
       " 'TM_P1_20210420_hy_ETA15.csv',\n",
       " 'TM_P1_20210421_hy_ETA15.csv',\n",
       " 'TM_P1_20210422_hy_ETA15.csv',\n",
       " 'TM_P1_20210423_hy_ETA15.csv',\n",
       " 'TM_P1_20210424_hy_ETA15.csv',\n",
       " 'TM_P1_20210425_hy_ETA15.csv']"
      ]
     },
     "execution_count": 3,
     "metadata": {},
     "output_type": "execute_result"
    }
   ],
   "source": [
    "files = os.listdir('J:/tmaplink2021/전처리/ETA/04/')\n",
    "files"
   ]
  },
  {
   "cell_type": "code",
   "execution_count": 5,
   "metadata": {},
   "outputs": [
    {
     "name": "stdout",
     "output_type": "stream",
     "text": [
      "TM_P1_20210419_hy_ETA15.csv\n",
      "preprocessed\n",
      "TM_P1_20210420_hy_ETA15.csv\n",
      "preprocessed\n",
      "TM_P1_20210421_hy_ETA15.csv\n",
      "preprocessed\n",
      "TM_P1_20210422_hy_ETA15.csv\n",
      "preprocessed\n",
      "TM_P1_20210423_hy_ETA15.csv\n",
      "preprocessed\n",
      "TM_P1_20210424_hy_ETA15.csv\n",
      "preprocessed\n",
      "TM_P1_20210425_hy_ETA15.csv\n",
      "preprocessed\n"
     ]
    },
    {
     "ename": "AttributeError",
     "evalue": "'list' object has no attribute 'shape'",
     "output_type": "error",
     "traceback": [
      "\u001b[1;31m---------------------------------------------------------------------------\u001b[0m",
      "\u001b[1;31mAttributeError\u001b[0m                            Traceback (most recent call last)",
      "\u001b[1;32mUntitled-1.ipynb Cell 3\u001b[0m line \u001b[0;36m1\n\u001b[0;32m     <a href='vscode-notebook-cell:Untitled-1.ipynb?jupyter-notebook#X26sdW50aXRsZWQ%3D?line=13'>14</a>\u001b[0m     df_list\u001b[39m.\u001b[39mappend(df1_spd)\n\u001b[0;32m     <a href='vscode-notebook-cell:Untitled-1.ipynb?jupyter-notebook#X26sdW50aXRsZWQ%3D?line=15'>16</a>\u001b[0m df4 \u001b[39m=\u001b[39m pd\u001b[39m.\u001b[39mconcat(df_list)\n\u001b[1;32m---> <a href='vscode-notebook-cell:Untitled-1.ipynb?jupyter-notebook#X26sdW50aXRsZWQ%3D?line=16'>17</a>\u001b[0m df_list\u001b[39m.\u001b[39;49mshape\n",
      "\u001b[1;31mAttributeError\u001b[0m: 'list' object has no attribute 'shape'"
     ]
    }
   ],
   "source": [
    "df_list = []\n",
    "\n",
    "for file in files:\n",
    "    tmp = pd.read_csv('J:/tmaplink2021/전처리/ETA/04/' + file)\n",
    "    print(file)\n",
    "    df1_spd = pd.merge(left=tmp, right=link_hy[['link_id', 'spd_all']], how='left', on='link_id')\n",
    "    df1_spd = pd.merge(left=df1_spd, right=link_all[['link_id', 'spd']], how='left', on='link_id')\n",
    "    df1_spd.spd_all.fillna(df1_spd.spd, inplace=True)\n",
    "\n",
    "    df1_spd.drop(df1_spd[df1_spd['our_speed'] > 120].index, inplace=True)\n",
    "    df1_spd.dropna(subset=['spd_all'], how='any', axis=0, inplace=True)\n",
    "    print('preprocessed')\n",
    "\n",
    "    df_list.append(df1_spd)\n",
    "\n",
    "df4 = pd.concat(df_list)\n",
    "df_list.shape"
   ]
  },
  {
   "cell_type": "code",
   "execution_count": 113,
   "metadata": {},
   "outputs": [
    {
     "data": {
      "text/plain": [
       "(50128378, 26)"
      ]
     },
     "execution_count": 113,
     "metadata": {},
     "output_type": "execute_result"
    }
   ],
   "source": [
    "df1 = pd.read_csv('J:/tmaplink2021/전처리/ETA/월별/TM_P1_202111_hy_ETA15_spdlim50.csv')\n",
    "df1.shape"
   ]
  },
  {
   "cell_type": "code",
   "execution_count": 7,
   "metadata": {},
   "outputs": [],
   "source": [
    "# df4.to_csv('J:/tmaplink2021/전처리/ETA/월별/TM_P1_202104_hy_ETA15.csv')"
   ]
  },
  {
   "cell_type": "code",
   "execution_count": 51,
   "metadata": {},
   "outputs": [],
   "source": [
    "# link_all = pd.read_csv('D:/서울시신호/데이터/GIS/level6_2021년_Shape파일/lv6_moctlink.csv')\n",
    "link_hy = pd.read_csv('D:/서울시신호/데이터/GIS/level6_2021년_Shape파일/한양도성속도보정final.csv')"
   ]
  },
  {
   "cell_type": "code",
   "execution_count": 74,
   "metadata": {},
   "outputs": [
    {
     "name": "stdout",
     "output_type": "stream",
     "text": [
      "<class 'pandas.core.frame.DataFrame'>\n",
      "RangeIndex: 3881785 entries, 0 to 3881784\n",
      "Data columns (total 26 columns):\n",
      " #   Column         Dtype  \n",
      "---  ------         -----  \n",
      " 0   Unnamed: 0     int64  \n",
      " 1   obu_id         object \n",
      " 2   group_id       int64  \n",
      " 3   veh_type       object \n",
      " 4   seq            int64  \n",
      " 5   link_id        int64  \n",
      " 6   from_vlink_id  int64  \n",
      " 7   datetime       object \n",
      " 8   to_vlink_id    int64  \n",
      " 9   v_link_id      int64  \n",
      " 10  in_time        int64  \n",
      " 11  in_datetime    object \n",
      " 12  out_datetime   object \n",
      " 13  ETA15          object \n",
      " 14  out_time       int64  \n",
      " 15  our_speed      float64\n",
      " 16  length         float64\n",
      " 17  speed          float64\n",
      " 18  emd_code       int64  \n",
      " 19  road_rank      int64  \n",
      " 20  max_speed      int64  \n",
      " 21  link_type      int64  \n",
      " 22  road_type      int64  \n",
      " 23  time           object \n",
      " 24  spd_all        float64\n",
      " 25  spd            float64\n",
      "dtypes: float64(5), int64(14), object(7)\n",
      "memory usage: 770.0+ MB\n"
     ]
    }
   ],
   "source": [
    "df1.info()"
   ]
  },
  {
   "cell_type": "code",
   "execution_count": 114,
   "metadata": {},
   "outputs": [
    {
     "data": {
      "text/plain": [
       "Index(['Unnamed: 0', 'obu_id', 'group_id', 'veh_type', 'seq', 'link_id',\n",
       "       'from_vlink_id', 'datetime', 'to_vlink_id', 'v_link_id', 'in_time',\n",
       "       'in_datetime', 'out_datetime', 'ETA15', 'out_time', 'our_speed',\n",
       "       'length', 'speed', 'emd_code', 'road_rank', 'max_speed', 'link_type',\n",
       "       'road_type', 'time', 'spd_all', 'spd'],\n",
       "      dtype='object')"
      ]
     },
     "execution_count": 114,
     "metadata": {},
     "output_type": "execute_result"
    }
   ],
   "source": [
    "df1.columns"
   ]
  },
  {
   "cell_type": "code",
   "execution_count": 26,
   "metadata": {},
   "outputs": [],
   "source": [
    "df1.columns = ['Unnamed: 0.1', 'Unnamed: 0', 'obu_id', 'group_id', 'veh_type', 'seq',\n",
    "       'datetime', 'link_id', 'from_vlink_id', 'v_link_id', 'to_vlink_id',\n",
    "       'in_time', 'out_time', 'in_datetime', 'out_datetime', 'ETA15', 'length',\n",
    "       'our_speed', 'speed', 'emd_code', 'road_rank', 'max_speed', 'link_type',\n",
    "       'road_type', 'time', 'spd', 'spd_all']"
   ]
  },
  {
   "cell_type": "code",
   "execution_count": 4,
   "metadata": {},
   "outputs": [
    {
     "data": {
      "text/plain": [
       "array([478700031, 478700040, 478700041, ..., 928701529, 928706548,\n",
       "       478704587], dtype=int64)"
      ]
     },
     "execution_count": 4,
     "metadata": {},
     "output_type": "execute_result"
    }
   ],
   "source": [
    "hylist = link_hy['link_id'].values\n",
    "hylist"
   ]
  },
  {
   "cell_type": "code",
   "execution_count": 115,
   "metadata": {},
   "outputs": [
    {
     "data": {
      "text/plain": [
       "(20137311, 26)"
      ]
     },
     "execution_count": 115,
     "metadata": {},
     "output_type": "execute_result"
    }
   ],
   "source": [
    "df1_hy = df1[df1['link_id'].isin(hylist)]\n",
    "df1_hy.shape"
   ]
  },
  {
   "cell_type": "code",
   "execution_count": 116,
   "metadata": {},
   "outputs": [
    {
     "name": "stderr",
     "output_type": "stream",
     "text": [
      "C:\\Users\\hyorim\\AppData\\Local\\Temp\\ipykernel_21840\\2644233070.py:1: SettingWithCopyWarning: \n",
      "A value is trying to be set on a copy of a slice from a DataFrame\n",
      "\n",
      "See the caveats in the documentation: https://pandas.pydata.org/pandas-docs/stable/user_guide/indexing.html#returning-a-view-versus-a-copy\n",
      "  df1_hy.drop(['Unnamed: 0', 'spd'], axis=1, inplace=True)\n"
     ]
    }
   ],
   "source": [
    "df1_hy.drop(['Unnamed: 0', 'spd'], axis=1, inplace=True)"
   ]
  },
  {
   "cell_type": "code",
   "execution_count": 117,
   "metadata": {},
   "outputs": [
    {
     "data": {
      "text/html": [
       "<div>\n",
       "<style scoped>\n",
       "    .dataframe tbody tr th:only-of-type {\n",
       "        vertical-align: middle;\n",
       "    }\n",
       "\n",
       "    .dataframe tbody tr th {\n",
       "        vertical-align: top;\n",
       "    }\n",
       "\n",
       "    .dataframe thead th {\n",
       "        text-align: right;\n",
       "    }\n",
       "</style>\n",
       "<table border=\"1\" class=\"dataframe\">\n",
       "  <thead>\n",
       "    <tr style=\"text-align: right;\">\n",
       "      <th></th>\n",
       "      <th>obu_id</th>\n",
       "      <th>group_id</th>\n",
       "      <th>veh_type</th>\n",
       "      <th>seq</th>\n",
       "      <th>link_id</th>\n",
       "      <th>from_vlink_id</th>\n",
       "      <th>datetime</th>\n",
       "      <th>to_vlink_id</th>\n",
       "      <th>v_link_id</th>\n",
       "      <th>in_time</th>\n",
       "      <th>...</th>\n",
       "      <th>our_speed</th>\n",
       "      <th>length</th>\n",
       "      <th>speed</th>\n",
       "      <th>emd_code</th>\n",
       "      <th>road_rank</th>\n",
       "      <th>max_speed</th>\n",
       "      <th>link_type</th>\n",
       "      <th>road_type</th>\n",
       "      <th>time</th>\n",
       "      <th>spd_all</th>\n",
       "    </tr>\n",
       "  </thead>\n",
       "  <tbody>\n",
       "    <tr>\n",
       "      <th>22</th>\n",
       "      <td>108220211115001649182S01</td>\n",
       "      <td>1</td>\n",
       "      <td>TM</td>\n",
       "      <td>2</td>\n",
       "      <td>478702556</td>\n",
       "      <td>47871416902</td>\n",
       "      <td>2021-11-15 00:17:00</td>\n",
       "      <td>47870255702</td>\n",
       "      <td>47870255601</td>\n",
       "      <td>1700</td>\n",
       "      <td>...</td>\n",
       "      <td>91.8120</td>\n",
       "      <td>76.51</td>\n",
       "      <td>56.81</td>\n",
       "      <td>1102055</td>\n",
       "      <td>104</td>\n",
       "      <td>60</td>\n",
       "      <td>32768</td>\n",
       "      <td>0</td>\n",
       "      <td>00:15:00</td>\n",
       "      <td>50.0</td>\n",
       "    </tr>\n",
       "    <tr>\n",
       "      <th>23</th>\n",
       "      <td>108220211115001649182S01</td>\n",
       "      <td>1</td>\n",
       "      <td>TM</td>\n",
       "      <td>3</td>\n",
       "      <td>478702557</td>\n",
       "      <td>47870255601</td>\n",
       "      <td>2021-11-15 00:17:04</td>\n",
       "      <td>47870287001</td>\n",
       "      <td>47870255702</td>\n",
       "      <td>1704</td>\n",
       "      <td>...</td>\n",
       "      <td>71.0220</td>\n",
       "      <td>118.37</td>\n",
       "      <td>62.42</td>\n",
       "      <td>1102060</td>\n",
       "      <td>104</td>\n",
       "      <td>60</td>\n",
       "      <td>32768</td>\n",
       "      <td>0</td>\n",
       "      <td>00:15:00</td>\n",
       "      <td>50.0</td>\n",
       "    </tr>\n",
       "    <tr>\n",
       "      <th>24</th>\n",
       "      <td>108220211115001649182S01</td>\n",
       "      <td>1</td>\n",
       "      <td>TM</td>\n",
       "      <td>4</td>\n",
       "      <td>478702870</td>\n",
       "      <td>47870255702</td>\n",
       "      <td>2021-11-15 00:17:11</td>\n",
       "      <td>47870256602</td>\n",
       "      <td>47870287001</td>\n",
       "      <td>1711</td>\n",
       "      <td>...</td>\n",
       "      <td>72.3528</td>\n",
       "      <td>100.49</td>\n",
       "      <td>66.09</td>\n",
       "      <td>1102060</td>\n",
       "      <td>104</td>\n",
       "      <td>60</td>\n",
       "      <td>32768</td>\n",
       "      <td>0</td>\n",
       "      <td>00:15:00</td>\n",
       "      <td>50.0</td>\n",
       "    </tr>\n",
       "    <tr>\n",
       "      <th>25</th>\n",
       "      <td>108220211115001649182S01</td>\n",
       "      <td>1</td>\n",
       "      <td>TM</td>\n",
       "      <td>5</td>\n",
       "      <td>478702566</td>\n",
       "      <td>47870287001</td>\n",
       "      <td>2021-11-15 00:17:17</td>\n",
       "      <td>47870256502</td>\n",
       "      <td>47870256602</td>\n",
       "      <td>1717</td>\n",
       "      <td>...</td>\n",
       "      <td>70.7832</td>\n",
       "      <td>98.31</td>\n",
       "      <td>53.24</td>\n",
       "      <td>1102060</td>\n",
       "      <td>104</td>\n",
       "      <td>60</td>\n",
       "      <td>32768</td>\n",
       "      <td>0</td>\n",
       "      <td>00:15:00</td>\n",
       "      <td>50.0</td>\n",
       "    </tr>\n",
       "    <tr>\n",
       "      <th>26</th>\n",
       "      <td>108220211115001649182S01</td>\n",
       "      <td>1</td>\n",
       "      <td>TM</td>\n",
       "      <td>6</td>\n",
       "      <td>478702565</td>\n",
       "      <td>47870256602</td>\n",
       "      <td>2021-11-15 00:17:23</td>\n",
       "      <td>47870751501</td>\n",
       "      <td>47870256502</td>\n",
       "      <td>1723</td>\n",
       "      <td>...</td>\n",
       "      <td>49.7250</td>\n",
       "      <td>55.25</td>\n",
       "      <td>43.66</td>\n",
       "      <td>1102060</td>\n",
       "      <td>104</td>\n",
       "      <td>60</td>\n",
       "      <td>32768</td>\n",
       "      <td>0</td>\n",
       "      <td>00:15:00</td>\n",
       "      <td>50.0</td>\n",
       "    </tr>\n",
       "  </tbody>\n",
       "</table>\n",
       "<p>5 rows × 24 columns</p>\n",
       "</div>"
      ],
      "text/plain": [
       "                      obu_id  group_id veh_type  seq    link_id  \\\n",
       "22  108220211115001649182S01         1       TM    2  478702556   \n",
       "23  108220211115001649182S01         1       TM    3  478702557   \n",
       "24  108220211115001649182S01         1       TM    4  478702870   \n",
       "25  108220211115001649182S01         1       TM    5  478702566   \n",
       "26  108220211115001649182S01         1       TM    6  478702565   \n",
       "\n",
       "    from_vlink_id             datetime  to_vlink_id    v_link_id  in_time  \\\n",
       "22    47871416902  2021-11-15 00:17:00  47870255702  47870255601     1700   \n",
       "23    47870255601  2021-11-15 00:17:04  47870287001  47870255702     1704   \n",
       "24    47870255702  2021-11-15 00:17:11  47870256602  47870287001     1711   \n",
       "25    47870287001  2021-11-15 00:17:17  47870256502  47870256602     1717   \n",
       "26    47870256602  2021-11-15 00:17:23  47870751501  47870256502     1723   \n",
       "\n",
       "    ... our_speed  length  speed  emd_code  road_rank  max_speed  link_type  \\\n",
       "22  ...   91.8120   76.51  56.81   1102055        104         60      32768   \n",
       "23  ...   71.0220  118.37  62.42   1102060        104         60      32768   \n",
       "24  ...   72.3528  100.49  66.09   1102060        104         60      32768   \n",
       "25  ...   70.7832   98.31  53.24   1102060        104         60      32768   \n",
       "26  ...   49.7250   55.25  43.66   1102060        104         60      32768   \n",
       "\n",
       "    road_type      time  spd_all  \n",
       "22          0  00:15:00     50.0  \n",
       "23          0  00:15:00     50.0  \n",
       "24          0  00:15:00     50.0  \n",
       "25          0  00:15:00     50.0  \n",
       "26          0  00:15:00     50.0  \n",
       "\n",
       "[5 rows x 24 columns]"
      ]
     },
     "execution_count": 117,
     "metadata": {},
     "output_type": "execute_result"
    }
   ],
   "source": [
    "df1_hy.head()\n"
   ]
  },
  {
   "cell_type": "code",
   "execution_count": 118,
   "metadata": {},
   "outputs": [],
   "source": [
    "df1_hy.to_csv('J:/tmaplink2021/전처리/ETA/월별/TM_P1_202111_hy_ETA15_spdlim50_hy.csv')"
   ]
  },
  {
   "cell_type": "code",
   "execution_count": 111,
   "metadata": {},
   "outputs": [],
   "source": [
    "df1_hy.groupby('v_link_id')['obu_id'].count().sort_values(ascending=False).to_csv('J:/tmaplink2021/전처리/ETA/월별/TM_P1_202111_hy_ETA15_spdlim50_linkcount.csv')"
   ]
  },
  {
   "cell_type": "code",
   "execution_count": 7,
   "metadata": {},
   "outputs": [],
   "source": [
    "df1_spd = pd.merge(left=df1, right=link_hy[['link_id', 'spd_all']], how='left', on='link_id')\n",
    "df1_spd = pd.merge(left=df1_spd, right=link_all[['link_id', 'spd']], how='left', on='link_id')\n",
    "df1_spd.spd_all.fillna(df1_spd.spd, inplace=True)"
   ]
  },
  {
   "cell_type": "code",
   "execution_count": 9,
   "metadata": {},
   "outputs": [
    {
     "data": {
      "text/html": [
       "<div>\n",
       "<style scoped>\n",
       "    .dataframe tbody tr th:only-of-type {\n",
       "        vertical-align: middle;\n",
       "    }\n",
       "\n",
       "    .dataframe tbody tr th {\n",
       "        vertical-align: top;\n",
       "    }\n",
       "\n",
       "    .dataframe thead th {\n",
       "        text-align: right;\n",
       "    }\n",
       "</style>\n",
       "<table border=\"1\" class=\"dataframe\">\n",
       "  <thead>\n",
       "    <tr style=\"text-align: right;\">\n",
       "      <th></th>\n",
       "      <th>obu_id</th>\n",
       "      <th>group_id</th>\n",
       "      <th>veh_type</th>\n",
       "      <th>seq</th>\n",
       "      <th>link_id</th>\n",
       "      <th>from_vlink_id</th>\n",
       "      <th>datetime</th>\n",
       "      <th>to_vlink_id</th>\n",
       "      <th>v_link_id</th>\n",
       "      <th>in_time</th>\n",
       "      <th>...</th>\n",
       "      <th>length</th>\n",
       "      <th>speed</th>\n",
       "      <th>emd_code</th>\n",
       "      <th>road_rank</th>\n",
       "      <th>max_speed</th>\n",
       "      <th>link_type</th>\n",
       "      <th>road_type</th>\n",
       "      <th>time</th>\n",
       "      <th>spd_all</th>\n",
       "      <th>spd</th>\n",
       "    </tr>\n",
       "  </thead>\n",
       "  <tbody>\n",
       "    <tr>\n",
       "      <th>0</th>\n",
       "      <td>105020210913003048674S00</td>\n",
       "      <td>1</td>\n",
       "      <td>TM</td>\n",
       "      <td>2</td>\n",
       "      <td>571660226</td>\n",
       "      <td>57266408501</td>\n",
       "      <td>2021-09-13 00:59:23</td>\n",
       "      <td>57166908401</td>\n",
       "      <td>57166022601</td>\n",
       "      <td>5923</td>\n",
       "      <td>...</td>\n",
       "      <td>303.51</td>\n",
       "      <td>108.09</td>\n",
       "      <td>1124069</td>\n",
       "      <td>102</td>\n",
       "      <td>80</td>\n",
       "      <td>1</td>\n",
       "      <td>1</td>\n",
       "      <td>00:45:00</td>\n",
       "      <td>80.0</td>\n",
       "      <td>80.0</td>\n",
       "    </tr>\n",
       "    <tr>\n",
       "      <th>1</th>\n",
       "      <td>105020210913003048674S00</td>\n",
       "      <td>1</td>\n",
       "      <td>TM</td>\n",
       "      <td>3</td>\n",
       "      <td>571669084</td>\n",
       "      <td>57166022601</td>\n",
       "      <td>2021-09-13 00:59:33</td>\n",
       "      <td>57166908301</td>\n",
       "      <td>57166908401</td>\n",
       "      <td>5933</td>\n",
       "      <td>...</td>\n",
       "      <td>937.09</td>\n",
       "      <td>105.37</td>\n",
       "      <td>1124069</td>\n",
       "      <td>102</td>\n",
       "      <td>80</td>\n",
       "      <td>1</td>\n",
       "      <td>0</td>\n",
       "      <td>00:45:00</td>\n",
       "      <td>80.0</td>\n",
       "      <td>80.0</td>\n",
       "    </tr>\n",
       "    <tr>\n",
       "      <th>2</th>\n",
       "      <td>105020210913003048674S00</td>\n",
       "      <td>1</td>\n",
       "      <td>TM</td>\n",
       "      <td>4</td>\n",
       "      <td>571669083</td>\n",
       "      <td>57166908401</td>\n",
       "      <td>2021-09-13 01:00:05</td>\n",
       "      <td>57165562701</td>\n",
       "      <td>57166908301</td>\n",
       "      <td>10005</td>\n",
       "      <td>...</td>\n",
       "      <td>1093.03</td>\n",
       "      <td>100.00</td>\n",
       "      <td>1124069</td>\n",
       "      <td>102</td>\n",
       "      <td>0</td>\n",
       "      <td>1</td>\n",
       "      <td>0</td>\n",
       "      <td>01:00:00</td>\n",
       "      <td>NaN</td>\n",
       "      <td>NaN</td>\n",
       "    </tr>\n",
       "    <tr>\n",
       "      <th>3</th>\n",
       "      <td>105020210913003048674S00</td>\n",
       "      <td>1</td>\n",
       "      <td>TM</td>\n",
       "      <td>5</td>\n",
       "      <td>571655627</td>\n",
       "      <td>57166908301</td>\n",
       "      <td>2021-09-13 01:00:44</td>\n",
       "      <td>57164764401</td>\n",
       "      <td>57165562701</td>\n",
       "      <td>10044</td>\n",
       "      <td>...</td>\n",
       "      <td>682.76</td>\n",
       "      <td>102.86</td>\n",
       "      <td>1123075</td>\n",
       "      <td>102</td>\n",
       "      <td>80</td>\n",
       "      <td>1</td>\n",
       "      <td>0</td>\n",
       "      <td>01:00:00</td>\n",
       "      <td>80.0</td>\n",
       "      <td>80.0</td>\n",
       "    </tr>\n",
       "    <tr>\n",
       "      <th>4</th>\n",
       "      <td>105020210913003048674S00</td>\n",
       "      <td>1</td>\n",
       "      <td>TM</td>\n",
       "      <td>6</td>\n",
       "      <td>571647644</td>\n",
       "      <td>57165562701</td>\n",
       "      <td>2021-09-13 01:01:08</td>\n",
       "      <td>57161123301</td>\n",
       "      <td>57164764401</td>\n",
       "      <td>10108</td>\n",
       "      <td>...</td>\n",
       "      <td>635.62</td>\n",
       "      <td>102.97</td>\n",
       "      <td>1123075</td>\n",
       "      <td>102</td>\n",
       "      <td>80</td>\n",
       "      <td>1</td>\n",
       "      <td>2</td>\n",
       "      <td>01:00:00</td>\n",
       "      <td>80.0</td>\n",
       "      <td>80.0</td>\n",
       "    </tr>\n",
       "  </tbody>\n",
       "</table>\n",
       "<p>5 rows × 25 columns</p>\n",
       "</div>"
      ],
      "text/plain": [
       "                     obu_id  group_id veh_type  seq    link_id  from_vlink_id  \\\n",
       "0  105020210913003048674S00         1       TM    2  571660226    57266408501   \n",
       "1  105020210913003048674S00         1       TM    3  571669084    57166022601   \n",
       "2  105020210913003048674S00         1       TM    4  571669083    57166908401   \n",
       "3  105020210913003048674S00         1       TM    5  571655627    57166908301   \n",
       "4  105020210913003048674S00         1       TM    6  571647644    57165562701   \n",
       "\n",
       "              datetime  to_vlink_id    v_link_id  in_time  ...   length  \\\n",
       "0  2021-09-13 00:59:23  57166908401  57166022601     5923  ...   303.51   \n",
       "1  2021-09-13 00:59:33  57166908301  57166908401     5933  ...   937.09   \n",
       "2  2021-09-13 01:00:05  57165562701  57166908301    10005  ...  1093.03   \n",
       "3  2021-09-13 01:00:44  57164764401  57165562701    10044  ...   682.76   \n",
       "4  2021-09-13 01:01:08  57161123301  57164764401    10108  ...   635.62   \n",
       "\n",
       "    speed emd_code  road_rank  max_speed  link_type  road_type      time  \\\n",
       "0  108.09  1124069        102         80          1          1  00:45:00   \n",
       "1  105.37  1124069        102         80          1          0  00:45:00   \n",
       "2  100.00  1124069        102          0          1          0  01:00:00   \n",
       "3  102.86  1123075        102         80          1          0  01:00:00   \n",
       "4  102.97  1123075        102         80          1          2  01:00:00   \n",
       "\n",
       "   spd_all   spd  \n",
       "0     80.0  80.0  \n",
       "1     80.0  80.0  \n",
       "2      NaN   NaN  \n",
       "3     80.0  80.0  \n",
       "4     80.0  80.0  \n",
       "\n",
       "[5 rows x 25 columns]"
      ]
     },
     "execution_count": 9,
     "metadata": {},
     "output_type": "execute_result"
    }
   ],
   "source": [
    "df1_spd.head()"
   ]
  },
  {
   "cell_type": "code",
   "execution_count": 31,
   "metadata": {},
   "outputs": [],
   "source": [
    "# df1_spd.to_csv('J:/tmaplink2021/전처리/ETA/월별/TM_P1_202101_hy_ETA15.csv')"
   ]
  },
  {
   "cell_type": "code",
   "execution_count": 2,
   "metadata": {},
   "outputs": [],
   "source": [
    "# df1 = pd.read_csv('J:/tmaplink2021/전처리/ETA/월별/TM_P1_202101_hy_ETA15.csv')"
   ]
  },
  {
   "cell_type": "code",
   "execution_count": 10,
   "metadata": {},
   "outputs": [
    {
     "data": {
      "text/plain": [
       "(64360420, 25)"
      ]
     },
     "execution_count": 10,
     "metadata": {},
     "output_type": "execute_result"
    }
   ],
   "source": [
    "df1_spd.shape"
   ]
  },
  {
   "cell_type": "code",
   "execution_count": 9,
   "metadata": {},
   "outputs": [],
   "source": [
    "df1_spd.drop(df1_spd[df1_spd['our_speed'] > 120].index, inplace=True)\n",
    "df1_spd = df1_spd.dropna(subset=['spd_all'], how='any', axis=0)"
   ]
  },
  {
   "cell_type": "code",
   "execution_count": 11,
   "metadata": {},
   "outputs": [
    {
     "data": {
      "text/plain": [
       "50.0     50448385\n",
       "30.0      4352750\n",
       "80.0      3827459\n",
       "60.0      3452388\n",
       "40.0      1680796\n",
       "70.0       216983\n",
       "110.0      204943\n",
       "90.0       121815\n",
       "100.0       34956\n",
       "20.0        10656\n",
       "10.0         9289\n",
       "Name: spd_all, dtype: int64"
      ]
     },
     "execution_count": 11,
     "metadata": {},
     "output_type": "execute_result"
    }
   ],
   "source": [
    "df1_spd.spd_all.value_counts()"
   ]
  },
  {
   "cell_type": "code",
   "execution_count": 16,
   "metadata": {},
   "outputs": [],
   "source": [
    "df1_spd.to_csv('J:/tmaplink2021/전처리/ETA/월별/TM_P1_202111_hy_ETA15.csv')"
   ]
  },
  {
   "cell_type": "code",
   "execution_count": 17,
   "metadata": {},
   "outputs": [],
   "source": [
    "df1_spd_120_spdlim50 = df1_spd[df1_spd['spd'] == 50]\n",
    "df1_spd_120_spdlim40 = df1_spd[df1_spd['spd'] == 40]\n",
    "df1_spd_120_spdlim30 = df1_spd[df1_spd['spd'] == 30]\n",
    "df1_spd_120_spdlim5030 = df1_spd[df1_spd['spd'].between(30,50)]\n",
    "\n",
    "# df1_spd_120_spdlim70 = df1_spd_120[df1_spd_120['spd'] == 70]\n",
    "# df1_spd_120_spdlim80 = df1_spd_120[df1_spd_120['spd'] == 80]\n",
    "# # df1_spd_120_spdlim90 = df1_spd_120[df1_spd_120['spd'] == 50]\n",
    "\n",
    "\n"
   ]
  },
  {
   "cell_type": "code",
   "execution_count": 10,
   "metadata": {},
   "outputs": [],
   "source": [
    "df1_spd_120_spdlim50.to_csv('J:/tmaplink2021/전처리/ETA/월별/TM_P1_202111_hy_ETA15_spdlim50.csv')\n",
    "df1_spd_120_spdlim40.to_csv('J:/tmaplink2021/전처리/ETA/월별/TM_P1_202111_hy_ETA15_spdlim40.csv')\n",
    "df1_spd_120_spdlim30.to_csv('J:/tmaplink2021/전처리/ETA/월별/TM_P1_202111_hy_ETA15_spdlim30.csv')\n",
    "df1_spd_120_spdlim5030.to_csv('J:/tmaplink2021/전처리/ETA/월별/TM_P1_202111_hy_ETA15_spdlim5030.csv')"
   ]
  },
  {
   "cell_type": "code",
   "execution_count": 112,
   "metadata": {},
   "outputs": [],
   "source": [
    "# del df1_spd_120_spdlim50\n",
    "# del df1_spd_120_spdlim40\n",
    "# del df1_spd_120_spdlim30\n",
    "# del df1_spd_120_spdlim5030\n",
    "del df1_hy\n",
    "del df1"
   ]
  },
  {
   "cell_type": "code",
   "execution_count": 23,
   "metadata": {},
   "outputs": [
    {
     "data": {
      "text/plain": [
       "(39342819, 25)"
      ]
     },
     "execution_count": 23,
     "metadata": {},
     "output_type": "execute_result"
    }
   ],
   "source": [
    "df1_spd_120_spdlim50.shape"
   ]
  },
  {
   "cell_type": "code",
   "execution_count": 8,
   "metadata": {},
   "outputs": [],
   "source": [
    "import matplotlib.pyplot as plt\n",
    "import numpy as np\n",
    "from scipy.stats import norm\n"
   ]
  },
  {
   "cell_type": "code",
   "execution_count": 39,
   "metadata": {},
   "outputs": [],
   "source": [
    "df = pd.read_csv('J:/tmaplink2021/전처리/ETA/월별/TM_P1_2021_hy_ETA15_linkcount.csv')"
   ]
  },
  {
   "cell_type": "code",
   "execution_count": 14,
   "metadata": {},
   "outputs": [
    {
     "name": "stdout",
     "output_type": "stream",
     "text": [
      "<class 'pandas.core.frame.DataFrame'>\n",
      "RangeIndex: 50485 entries, 0 to 50484\n",
      "Data columns (total 8 columns):\n",
      " #   Column      Non-Null Count  Dtype  \n",
      "---  ------      --------------  -----  \n",
      " 0   v_link_id   50485 non-null  int64  \n",
      " 1   obu_id      50485 non-null  int64  \n",
      " 2   prob        50485 non-null  float64\n",
      " 3   dense       50485 non-null  float64\n",
      " 4   Unnamed: 4  0 non-null      float64\n",
      " 5   Unnamed: 5  0 non-null      float64\n",
      " 6   Unnamed: 6  0 non-null      float64\n",
      " 7   Unnamed: 7  0 non-null      float64\n",
      "dtypes: float64(6), int64(2)\n",
      "memory usage: 3.1 MB\n"
     ]
    }
   ],
   "source": [
    "df.info()"
   ]
  },
  {
   "cell_type": "code",
   "execution_count": 13,
   "metadata": {},
   "outputs": [
    {
     "data": {
      "image/png": "[encoded data removed]",
      "text/plain": [
       "<Figure size 640x480 with 1 Axes>"
      ]
     },
     "metadata": {},
     "output_type": "display_data"
    }
   ],
   "source": [
    "# 정규 분포의 CDF\n",
    "x = np.linspace(-3, 3, 1000)\n",
    "cdf = norm.cdf(x)\n",
    "\n",
    "plt.plot(x, cdf)\n",
    "plt.title('Normal Distribution CDF')\n",
    "plt.xlabel('Value')\n",
    "plt.ylabel('CDF')\n",
    "plt.show()\n"
   ]
  },
  {
   "cell_type": "code",
   "execution_count": 10,
   "metadata": {},
   "outputs": [
    {
     "data": {
      "image/png": "[encoded data removed]",
      "text/plain": [
       "<Figure size 640x480 with 1 Axes>"
      ]
     },
     "metadata": {},
     "output_type": "display_data"
    }
   ],
   "source": [
    "pdf = norm.pdf(x)\n",
    "\n",
    "plt.plot(x, pdf)\n",
    "plt.title('Normal Distribution PDF')\n",
    "plt.xlabel('Value')\n",
    "plt.ylabel('PDF')\n",
    "plt.show()\n"
   ]
  },
  {
   "cell_type": "code",
   "execution_count": 11,
   "metadata": {},
   "outputs": [
    {
     "data": {
      "image/png": "[encoded data removed]",
      "text/plain": [
       "<Figure size 640x480 with 1 Axes>"
      ]
     },
     "metadata": {},
     "output_type": "display_data"
    }
   ],
   "source": [
    "# CDF 데이터로부터 수치적 미분을 사용하여 PDF를 계산\n",
    "dx = x[1] - x[0]  # x 간격\n",
    "numerical_pdf = np.gradient(cdf, dx)\n",
    "\n",
    "plt.plot(x, numerical_pdf)\n",
    "plt.title('Numerically Differentiated PDF')\n",
    "plt.xlabel('Value')\n",
    "plt.ylabel('PDF')\n",
    "plt.show()\n"
   ]
  },
  {
   "cell_type": "code",
   "execution_count": 44,
   "metadata": {},
   "outputs": [
    {
     "data": {
      "text/html": [
       "<div>\n",
       "<style scoped>\n",
       "    .dataframe tbody tr th:only-of-type {\n",
       "        vertical-align: middle;\n",
       "    }\n",
       "\n",
       "    .dataframe tbody tr th {\n",
       "        vertical-align: top;\n",
       "    }\n",
       "\n",
       "    .dataframe thead th {\n",
       "        text-align: right;\n",
       "    }\n",
       "</style>\n",
       "<table border=\"1\" class=\"dataframe\">\n",
       "  <thead>\n",
       "    <tr style=\"text-align: right;\">\n",
       "      <th></th>\n",
       "      <th>v_link_id</th>\n",
       "      <th>obu_id</th>\n",
       "      <th>prob</th>\n",
       "      <th>dense</th>\n",
       "      <th>Unnamed: 4</th>\n",
       "      <th>Unnamed: 5</th>\n",
       "      <th>Unnamed: 6</th>\n",
       "      <th>Unnamed: 7</th>\n",
       "    </tr>\n",
       "  </thead>\n",
       "  <tbody>\n",
       "    <tr>\n",
       "      <th>0</th>\n",
       "      <td>57174495502</td>\n",
       "      <td>331149</td>\n",
       "      <td>1.384423e-03</td>\n",
       "      <td>0.001384</td>\n",
       "      <td>NaN</td>\n",
       "      <td>NaN</td>\n",
       "      <td>NaN</td>\n",
       "      <td>NaN</td>\n",
       "    </tr>\n",
       "    <tr>\n",
       "      <th>1</th>\n",
       "      <td>57174476202</td>\n",
       "      <td>331048</td>\n",
       "      <td>1.384000e-03</td>\n",
       "      <td>0.002768</td>\n",
       "      <td>NaN</td>\n",
       "      <td>NaN</td>\n",
       "      <td>NaN</td>\n",
       "      <td>NaN</td>\n",
       "    </tr>\n",
       "    <tr>\n",
       "      <th>2</th>\n",
       "      <td>57173979002</td>\n",
       "      <td>303386</td>\n",
       "      <td>1.268355e-03</td>\n",
       "      <td>0.004037</td>\n",
       "      <td>NaN</td>\n",
       "      <td>NaN</td>\n",
       "      <td>NaN</td>\n",
       "      <td>NaN</td>\n",
       "    </tr>\n",
       "    <tr>\n",
       "      <th>3</th>\n",
       "      <td>57173979001</td>\n",
       "      <td>298155</td>\n",
       "      <td>1.246486e-03</td>\n",
       "      <td>0.005283</td>\n",
       "      <td>NaN</td>\n",
       "      <td>NaN</td>\n",
       "      <td>NaN</td>\n",
       "      <td>NaN</td>\n",
       "    </tr>\n",
       "    <tr>\n",
       "      <th>4</th>\n",
       "      <td>57171673301</td>\n",
       "      <td>296755</td>\n",
       "      <td>1.240633e-03</td>\n",
       "      <td>0.006524</td>\n",
       "      <td>NaN</td>\n",
       "      <td>NaN</td>\n",
       "      <td>NaN</td>\n",
       "      <td>NaN</td>\n",
       "    </tr>\n",
       "    <tr>\n",
       "      <th>...</th>\n",
       "      <td>...</td>\n",
       "      <td>...</td>\n",
       "      <td>...</td>\n",
       "      <td>...</td>\n",
       "      <td>...</td>\n",
       "      <td>...</td>\n",
       "      <td>...</td>\n",
       "      <td>...</td>\n",
       "    </tr>\n",
       "    <tr>\n",
       "      <th>50480</th>\n",
       "      <td>47869160901</td>\n",
       "      <td>1</td>\n",
       "      <td>4.180000e-09</td>\n",
       "      <td>1.000000</td>\n",
       "      <td>NaN</td>\n",
       "      <td>NaN</td>\n",
       "      <td>NaN</td>\n",
       "      <td>NaN</td>\n",
       "    </tr>\n",
       "    <tr>\n",
       "      <th>50481</th>\n",
       "      <td>47865947402</td>\n",
       "      <td>1</td>\n",
       "      <td>4.180000e-09</td>\n",
       "      <td>1.000000</td>\n",
       "      <td>NaN</td>\n",
       "      <td>NaN</td>\n",
       "      <td>NaN</td>\n",
       "      <td>NaN</td>\n",
       "    </tr>\n",
       "    <tr>\n",
       "      <th>50482</th>\n",
       "      <td>47865947502</td>\n",
       "      <td>1</td>\n",
       "      <td>4.180000e-09</td>\n",
       "      <td>1.000000</td>\n",
       "      <td>NaN</td>\n",
       "      <td>NaN</td>\n",
       "      <td>NaN</td>\n",
       "      <td>NaN</td>\n",
       "    </tr>\n",
       "    <tr>\n",
       "      <th>50483</th>\n",
       "      <td>47870388601</td>\n",
       "      <td>1</td>\n",
       "      <td>4.180000e-09</td>\n",
       "      <td>1.000000</td>\n",
       "      <td>NaN</td>\n",
       "      <td>NaN</td>\n",
       "      <td>NaN</td>\n",
       "      <td>NaN</td>\n",
       "    </tr>\n",
       "    <tr>\n",
       "      <th>50484</th>\n",
       "      <td>47872057501</td>\n",
       "      <td>1</td>\n",
       "      <td>4.180000e-09</td>\n",
       "      <td>1.000000</td>\n",
       "      <td>NaN</td>\n",
       "      <td>NaN</td>\n",
       "      <td>NaN</td>\n",
       "      <td>NaN</td>\n",
       "    </tr>\n",
       "  </tbody>\n",
       "</table>\n",
       "<p>50485 rows × 8 columns</p>\n",
       "</div>"
      ],
      "text/plain": [
       "         v_link_id  obu_id          prob     dense  Unnamed: 4  Unnamed: 5  \\\n",
       "0      57174495502  331149  1.384423e-03  0.001384         NaN         NaN   \n",
       "1      57174476202  331048  1.384000e-03  0.002768         NaN         NaN   \n",
       "2      57173979002  303386  1.268355e-03  0.004037         NaN         NaN   \n",
       "3      57173979001  298155  1.246486e-03  0.005283         NaN         NaN   \n",
       "4      57171673301  296755  1.240633e-03  0.006524         NaN         NaN   \n",
       "...            ...     ...           ...       ...         ...         ...   \n",
       "50480  47869160901       1  4.180000e-09  1.000000         NaN         NaN   \n",
       "50481  47865947402       1  4.180000e-09  1.000000         NaN         NaN   \n",
       "50482  47865947502       1  4.180000e-09  1.000000         NaN         NaN   \n",
       "50483  47870388601       1  4.180000e-09  1.000000         NaN         NaN   \n",
       "50484  47872057501       1  4.180000e-09  1.000000         NaN         NaN   \n",
       "\n",
       "       Unnamed: 6  Unnamed: 7  \n",
       "0             NaN         NaN  \n",
       "1             NaN         NaN  \n",
       "2             NaN         NaN  \n",
       "3             NaN         NaN  \n",
       "4             NaN         NaN  \n",
       "...           ...         ...  \n",
       "50480         NaN         NaN  \n",
       "50481         NaN         NaN  \n",
       "50482         NaN         NaN  \n",
       "50483         NaN         NaN  \n",
       "50484         NaN         NaN  \n",
       "\n",
       "[50485 rows x 8 columns]"
      ]
     },
     "execution_count": 44,
     "metadata": {},
     "output_type": "execute_result"
    }
   ],
   "source": [
    "df"
   ]
  },
  {
   "cell_type": "code",
   "execution_count": 47,
   "metadata": {},
   "outputs": [],
   "source": [
    "df.reset_index(inplace=True)"
   ]
  },
  {
   "cell_type": "code",
   "execution_count": 50,
   "metadata": {},
   "outputs": [
    {
     "data": {
      "image/png": "[encoded data removed]",
      "text/plain": [
       "<Figure size 640x480 with 1 Axes>"
      ]
     },
     "metadata": {},
     "output_type": "display_data"
    }
   ],
   "source": [
    "import pandas as pd\n",
    "import matplotlib.pyplot as plt\n",
    "# '사용 빈도'로 내림차순 정렬\n",
    "data = df.sort_values(by='obu_id', ascending=False)\n",
    "\n",
    "# 확률 계산\n",
    "data['prob2'] = data['obu_id'] / data['obu_id'].sum()\n",
    "\n",
    "# 누적 확률 계산\n",
    "data['dense2'] = data['prob2'].cumsum()\n",
    "\n",
    "# 누적 확률 분포 그리기\n",
    "plt.plot(data['index'], data['dense'], marker='', linestyle='-')\n",
    "# plt.xlabel('링크 번호')\n",
    "# plt.ylabel('누적 확률')\n",
    "# plt.title('누적 확률 분포')\n",
    "plt.show()\n"
   ]
  },
  {
   "cell_type": "code",
   "execution_count": 56,
   "metadata": {},
   "outputs": [
    {
     "data": {
      "text/plain": [
       "array([    0,     1,     2, ..., 49265, 49264, 50484], dtype=int64)"
      ]
     },
     "execution_count": 56,
     "metadata": {},
     "output_type": "execute_result"
    }
   ],
   "source": [
    "data['index'].values"
   ]
  },
  {
   "cell_type": "code",
   "execution_count": 54,
   "metadata": {},
   "outputs": [
    {
     "data": {
      "text/plain": [
       "array([    1,     3,     5, ..., 98531, 98529, 99748], dtype=int64)"
      ]
     },
     "execution_count": 54,
     "metadata": {},
     "output_type": "execute_result"
    }
   ],
   "source": [
    "data['index'].values[:-1] + data['index'].values[1:]"
   ]
  },
  {
   "cell_type": "code",
   "execution_count": 57,
   "metadata": {},
   "outputs": [
    {
     "data": {
      "text/plain": [
       "Text(0.5, 1.0, 'Approximated Probability Density Function (PDF)')"
      ]
     },
     "execution_count": 57,
     "metadata": {},
     "output_type": "execute_result"
    },
    {
     "data": {
      "image/png": "[encoded data removed]",
      "text/plain": [
       "<Figure size 640x480 with 1 Axes>"
      ]
     },
     "metadata": {},
     "output_type": "display_data"
    }
   ],
   "source": [
    "import pandas as pd\n",
    "import numpy as np\n",
    "import matplotlib.pyplot as plt\n",
    "\n",
    "# 예시 데이터\n",
    "\n",
    "# '사용 빈도'로 내림차순 정렬\n",
    "data = df.sort_values(by='obu_id', ascending=False)\n",
    "\n",
    "# 확률 계산\n",
    "# data['prob2'] = data['obu_id'] / data['obu_id'].sum()\n",
    "\n",
    "# 누적 확률 계산\n",
    "# data['dense2'] = data['prob2'].cumsum()\n",
    "\n",
    "# 수치적 미분을 이용한 PDF 근사 계산\n",
    "dx = np.diff(data['index'].values) # x 데이터 간격\n",
    "dy = np.diff(data['dense'].values) # y 데이터 간격\n",
    "pdf_approx = dy / dx                  # 미분 계수\n",
    "\n",
    "# 중간점 계산\n",
    "x_mid = (data['index'].values[:-1] + data['index'].values[1:]) / 2\n",
    "\n",
    "# PDF 그리기\n",
    "plt.plot(x_mid, pdf_approx, linestyle='-', marker='')\n",
    "# plt.xlabel('사용 빈도')\n",
    "plt.ylabel('PDF')\n",
    "plt.title('Approximated Probability Density Function (PDF)')\n",
    "# plt.gca().invert_xaxis()  # x\n"
   ]
  },
  {
   "cell_type": "code",
   "execution_count": 84,
   "metadata": {},
   "outputs": [
    {
     "data": {
      "text/plain": [
       "array([  187,   188,   425, ..., 50476, 50477, 50481], dtype=int64)"
      ]
     },
     "execution_count": 84,
     "metadata": {},
     "output_type": "execute_result"
    }
   ],
   "source": [
    " np.where(np.diff(np.sign(second_derivative)))[0]"
   ]
  },
  {
   "cell_type": "code",
   "execution_count": 88,
   "metadata": {},
   "outputs": [
    {
     "data": {
      "image/png": "[encoded data removed]",
      "text/plain": [
       "<Figure size 640x480 with 1 Axes>"
      ]
     },
     "metadata": {},
     "output_type": "display_data"
    }
   ],
   "source": [
    "data = df.sort_values(by='obu_id', ascending=False)\n",
    "\n",
    "dx = np.diff(data['index'].values) # x 데이터 간격\n",
    "dy = np.diff(data['dense'].values) # y 데이터 간격\n",
    "pdf_approx = dy / dx  # 미분계수\n",
    "\n",
    "d2x = np.diff(x_mid)                   # 중간점 x 데이터 간격\n",
    "d2y = np.diff(pdf_approx)              # PDF 미분 계수 간격\n",
    "second_derivative = d2y / d2x          # 두 번째 미분 계수\n",
    "\n",
    "x_mid2 = (x_mid[:-1] + x_mid[1:]) / 2\n",
    "\n",
    "sign_changes = np.where(np.diff(np.sign(second_derivative)))[0]\n",
    "\n",
    "# plt.plot(data['index'], data['dense'], label='CDF')\n",
    "plt.plot(x_mid, pdf_approx, label='PDF')\n",
    "plt.plot(x_mid2, second_derivative, label='Second Derivative of PDF')\n",
    "\n",
    "# CDF 위의 변곡점 찾기\n",
    "inflection_points = data['index'].values[sign_changes]\n",
    "\n",
    "# plt.scatter(inflection_points, data['dense'][sign_changes], color='red') # CDF 위의 변곡점 표시\n",
    "# plt.plot(x_mid2, second_derivative, linestyle='', marker='.')"
   ]
  },
  {
   "cell_type": "code",
   "execution_count": 80,
   "metadata": {},
   "outputs": [
    {
     "data": {
      "text/plain": [
       "<matplotlib.collections.PathCollection at 0x1b7307cb550>"
      ]
     },
     "execution_count": 80,
     "metadata": {},
     "output_type": "execute_result"
    },
    {
     "data": {
      "image/png": "[encoded data removed]",
      "text/plain": [
       "<Figure size 640x480 with 1 Axes>"
      ]
     },
     "metadata": {},
     "output_type": "display_data"
    }
   ],
   "source": [
    "data = df.sort_values(by='obu_id', ascending=False)\n",
    "\n",
    "dx = np.diff(data['index'].values) # x 데이터 간격\n",
    "dy = np.diff(data['dense'].values) # y 데이터 간격\n",
    "pdf_approx = dy / dx  # 미분계수\n",
    "\n",
    "# PDF의 미분 (두 번째 미분)\n",
    "d2x = np.diff(data['index'].values[:-1])\n",
    "d2y = np.diff(pdf_approx)\n",
    "second_derivative = d2y / d2x\n",
    "\n",
    "# 11번째 인덱스에 해당하는 '사용 빈도' 값 찾기\n",
    "index_11 = 10  # 인덱스는 0부터 시작하므로 11번째 값은 인덱스 10에 해당\n",
    "frequency_at_index_11 = data['index'].values[index_11]\n",
    "\n",
    "# 해당 '사용 빈도'에 대한 CDF 값 찾기\n",
    "cdf_value_at_index_11 = data['dense'][index_11]\n",
    "\n",
    "plt.plot(data['index'], data['dense'], label='CDF')\n",
    "plt.plot(x_mid, pdf_approx, label='PDF')\n",
    "plt.plot(x_mid2, second_derivative, label='Second Derivative of PDF')\n",
    "\n",
    "# CDF 위의 변곡점 찾기\n",
    "inflection_points = data['index'].values[sign_changes]\n",
    "\n",
    "plt.scatter(frequency_at_index_11, cdf_value_at_index_11, color='red') # 해당 인덱스의 CDF 값 표시\n",
    "# plt.plot(x_mid2, second_derivative, linestyle='', marker='.')"
   ]
  },
  {
   "cell_type": "code",
   "execution_count": 86,
   "metadata": {},
   "outputs": [
    {
     "data": {
      "text/plain": [
       "11"
      ]
     },
     "execution_count": 86,
     "metadata": {},
     "output_type": "execute_result"
    }
   ],
   "source": [
    "max_change_index = np.argmax(np.abs(second_derivative))\n",
    "max_change_index"
   ]
  },
  {
   "cell_type": "code",
   "execution_count": 76,
   "metadata": {},
   "outputs": [
    {
     "data": {
      "text/plain": [
       "(array([  187,   188,   425, ..., 50476, 50477, 50481], dtype=int64),)"
      ]
     },
     "execution_count": 76,
     "metadata": {},
     "output_type": "execute_result"
    }
   ],
   "source": [
    "np.where(np.diff(np.sign(second_derivative)))"
   ]
  },
  {
   "cell_type": "code",
   "execution_count": 73,
   "metadata": {},
   "outputs": [
    {
     "data": {
      "text/plain": [
       "array([-2.47404000e-04, -1.15646000e-04, -5.67530000e-05, ...,\n",
       "        1.00000019e-09,  1.00000019e-09,  1.00000019e-09])"
      ]
     },
     "execution_count": 73,
     "metadata": {},
     "output_type": "execute_result"
    }
   ],
   "source": [
    "second_derivative.sort()\n",
    "second_derivative"
   ]
  },
  {
   "cell_type": "code",
   "execution_count": 75,
   "metadata": {},
   "outputs": [
    {
     "data": {
      "text/plain": [
       "array([-1.1564600e-04, -2.1868000e-05, -5.8530000e-06, ...,\n",
       "       -0.0000000e+00, -0.0000000e+00,  2.9586197e-13])"
      ]
     },
     "execution_count": 75,
     "metadata": {},
     "output_type": "execute_result"
    }
   ],
   "source": [
    "second_derivative"
   ]
  },
  {
   "cell_type": "code",
   "execution_count": 79,
   "metadata": {},
   "outputs": [
    {
     "data": {
      "text/plain": [
       "(array([11], dtype=int64),)"
      ]
     },
     "execution_count": 79,
     "metadata": {},
     "output_type": "execute_result"
    }
   ],
   "source": [
    "np.where(second_derivative <= -1.15646000e-04)"
   ]
  },
  {
   "cell_type": "code",
   "execution_count": 48,
   "metadata": {},
   "outputs": [
    {
     "data": {
      "text/html": [
       "<div>\n",
       "<style scoped>\n",
       "    .dataframe tbody tr th:only-of-type {\n",
       "        vertical-align: middle;\n",
       "    }\n",
       "\n",
       "    .dataframe tbody tr th {\n",
       "        vertical-align: top;\n",
       "    }\n",
       "\n",
       "    .dataframe thead th {\n",
       "        text-align: right;\n",
       "    }\n",
       "</style>\n",
       "<table border=\"1\" class=\"dataframe\">\n",
       "  <thead>\n",
       "    <tr style=\"text-align: right;\">\n",
       "      <th></th>\n",
       "      <th>index</th>\n",
       "      <th>v_link_id</th>\n",
       "      <th>obu_id</th>\n",
       "      <th>prob</th>\n",
       "      <th>dense</th>\n",
       "      <th>Unnamed: 4</th>\n",
       "      <th>Unnamed: 5</th>\n",
       "      <th>Unnamed: 6</th>\n",
       "      <th>Unnamed: 7</th>\n",
       "    </tr>\n",
       "  </thead>\n",
       "  <tbody>\n",
       "    <tr>\n",
       "      <th>0</th>\n",
       "      <td>0</td>\n",
       "      <td>57174495502</td>\n",
       "      <td>331149</td>\n",
       "      <td>1.384423e-03</td>\n",
       "      <td>0.001384</td>\n",
       "      <td>NaN</td>\n",
       "      <td>NaN</td>\n",
       "      <td>NaN</td>\n",
       "      <td>NaN</td>\n",
       "    </tr>\n",
       "    <tr>\n",
       "      <th>1</th>\n",
       "      <td>1</td>\n",
       "      <td>57174476202</td>\n",
       "      <td>331048</td>\n",
       "      <td>1.384000e-03</td>\n",
       "      <td>0.002768</td>\n",
       "      <td>NaN</td>\n",
       "      <td>NaN</td>\n",
       "      <td>NaN</td>\n",
       "      <td>NaN</td>\n",
       "    </tr>\n",
       "    <tr>\n",
       "      <th>2</th>\n",
       "      <td>2</td>\n",
       "      <td>57173979002</td>\n",
       "      <td>303386</td>\n",
       "      <td>1.268355e-03</td>\n",
       "      <td>0.004037</td>\n",
       "      <td>NaN</td>\n",
       "      <td>NaN</td>\n",
       "      <td>NaN</td>\n",
       "      <td>NaN</td>\n",
       "    </tr>\n",
       "    <tr>\n",
       "      <th>3</th>\n",
       "      <td>3</td>\n",
       "      <td>57173979001</td>\n",
       "      <td>298155</td>\n",
       "      <td>1.246486e-03</td>\n",
       "      <td>0.005283</td>\n",
       "      <td>NaN</td>\n",
       "      <td>NaN</td>\n",
       "      <td>NaN</td>\n",
       "      <td>NaN</td>\n",
       "    </tr>\n",
       "    <tr>\n",
       "      <th>4</th>\n",
       "      <td>4</td>\n",
       "      <td>57171673301</td>\n",
       "      <td>296755</td>\n",
       "      <td>1.240633e-03</td>\n",
       "      <td>0.006524</td>\n",
       "      <td>NaN</td>\n",
       "      <td>NaN</td>\n",
       "      <td>NaN</td>\n",
       "      <td>NaN</td>\n",
       "    </tr>\n",
       "    <tr>\n",
       "      <th>...</th>\n",
       "      <td>...</td>\n",
       "      <td>...</td>\n",
       "      <td>...</td>\n",
       "      <td>...</td>\n",
       "      <td>...</td>\n",
       "      <td>...</td>\n",
       "      <td>...</td>\n",
       "      <td>...</td>\n",
       "      <td>...</td>\n",
       "    </tr>\n",
       "    <tr>\n",
       "      <th>50480</th>\n",
       "      <td>50480</td>\n",
       "      <td>47869160901</td>\n",
       "      <td>1</td>\n",
       "      <td>4.180000e-09</td>\n",
       "      <td>1.000000</td>\n",
       "      <td>NaN</td>\n",
       "      <td>NaN</td>\n",
       "      <td>NaN</td>\n",
       "      <td>NaN</td>\n",
       "    </tr>\n",
       "    <tr>\n",
       "      <th>50481</th>\n",
       "      <td>50481</td>\n",
       "      <td>47865947402</td>\n",
       "      <td>1</td>\n",
       "      <td>4.180000e-09</td>\n",
       "      <td>1.000000</td>\n",
       "      <td>NaN</td>\n",
       "      <td>NaN</td>\n",
       "      <td>NaN</td>\n",
       "      <td>NaN</td>\n",
       "    </tr>\n",
       "    <tr>\n",
       "      <th>50482</th>\n",
       "      <td>50482</td>\n",
       "      <td>47865947502</td>\n",
       "      <td>1</td>\n",
       "      <td>4.180000e-09</td>\n",
       "      <td>1.000000</td>\n",
       "      <td>NaN</td>\n",
       "      <td>NaN</td>\n",
       "      <td>NaN</td>\n",
       "      <td>NaN</td>\n",
       "    </tr>\n",
       "    <tr>\n",
       "      <th>50483</th>\n",
       "      <td>50483</td>\n",
       "      <td>47870388601</td>\n",
       "      <td>1</td>\n",
       "      <td>4.180000e-09</td>\n",
       "      <td>1.000000</td>\n",
       "      <td>NaN</td>\n",
       "      <td>NaN</td>\n",
       "      <td>NaN</td>\n",
       "      <td>NaN</td>\n",
       "    </tr>\n",
       "    <tr>\n",
       "      <th>50484</th>\n",
       "      <td>50484</td>\n",
       "      <td>47872057501</td>\n",
       "      <td>1</td>\n",
       "      <td>4.180000e-09</td>\n",
       "      <td>1.000000</td>\n",
       "      <td>NaN</td>\n",
       "      <td>NaN</td>\n",
       "      <td>NaN</td>\n",
       "      <td>NaN</td>\n",
       "    </tr>\n",
       "  </tbody>\n",
       "</table>\n",
       "<p>50485 rows × 9 columns</p>\n",
       "</div>"
      ],
      "text/plain": [
       "       index    v_link_id  obu_id          prob     dense  Unnamed: 4  \\\n",
       "0          0  57174495502  331149  1.384423e-03  0.001384         NaN   \n",
       "1          1  57174476202  331048  1.384000e-03  0.002768         NaN   \n",
       "2          2  57173979002  303386  1.268355e-03  0.004037         NaN   \n",
       "3          3  57173979001  298155  1.246486e-03  0.005283         NaN   \n",
       "4          4  57171673301  296755  1.240633e-03  0.006524         NaN   \n",
       "...      ...          ...     ...           ...       ...         ...   \n",
       "50480  50480  47869160901       1  4.180000e-09  1.000000         NaN   \n",
       "50481  50481  47865947402       1  4.180000e-09  1.000000         NaN   \n",
       "50482  50482  47865947502       1  4.180000e-09  1.000000         NaN   \n",
       "50483  50483  47870388601       1  4.180000e-09  1.000000         NaN   \n",
       "50484  50484  47872057501       1  4.180000e-09  1.000000         NaN   \n",
       "\n",
       "       Unnamed: 5  Unnamed: 6  Unnamed: 7  \n",
       "0             NaN         NaN         NaN  \n",
       "1             NaN         NaN         NaN  \n",
       "2             NaN         NaN         NaN  \n",
       "3             NaN         NaN         NaN  \n",
       "4             NaN         NaN         NaN  \n",
       "...           ...         ...         ...  \n",
       "50480         NaN         NaN         NaN  \n",
       "50481         NaN         NaN         NaN  \n",
       "50482         NaN         NaN         NaN  \n",
       "50483         NaN         NaN         NaN  \n",
       "50484         NaN         NaN         NaN  \n",
       "\n",
       "[50485 rows x 9 columns]"
      ]
     },
     "execution_count": 48,
     "metadata": {},
     "output_type": "execute_result"
    }
   ],
   "source": [
    "df"
   ]
  },
  {
   "cell_type": "code",
   "execution_count": null,
   "metadata": {},
   "outputs": [],
   "source": []
  }
 ],
 "metadata": {
  "kernelspec": {
   "display_name": "Python 3",
   "language": "python",
   "name": "python3"
  },
  "language_info": {
   "codemirror_mode": {
    "name": "ipython",
    "version": 3
   },
   "file_extension": ".py",
   "mimetype": "text/x-python",
   "name": "python",
   "nbconvert_exporter": "python",
   "pygments_lexer": "ipython3",
   "version": "3.11.0"
  }
 },
 "nbformat": 4,
 "nbformat_minor": 2
}
